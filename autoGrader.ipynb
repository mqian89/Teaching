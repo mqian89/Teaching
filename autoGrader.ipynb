{
 "cells": [
  {
   "cell_type": "markdown",
   "metadata": {},
   "source": [
    "***Multiple Choice marker*** <br />\n",
    "Load the data with the student answers. The last column contains the correct answers."
   ]
  },
  {
   "cell_type": "code",
   "execution_count": 1,
   "metadata": {},
   "outputs": [],
   "source": [
    "import pandas as pd\n",
    "df = pd.read_csv('marks_python.csv', header = None, na_values = 'none')"
   ]
  },
  {
   "cell_type": "code",
   "execution_count": 2,
   "metadata": {},
   "outputs": [
    {
     "data": {
      "text/html": [
       "<div>\n",
       "<style scoped>\n",
       "    .dataframe tbody tr th:only-of-type {\n",
       "        vertical-align: middle;\n",
       "    }\n",
       "\n",
       "    .dataframe tbody tr th {\n",
       "        vertical-align: top;\n",
       "    }\n",
       "\n",
       "    .dataframe thead th {\n",
       "        text-align: right;\n",
       "    }\n",
       "</style>\n",
       "<table border=\"1\" class=\"dataframe\">\n",
       "  <thead>\n",
       "    <tr style=\"text-align: right;\">\n",
       "      <th></th>\n",
       "      <th>0</th>\n",
       "      <th>1</th>\n",
       "      <th>2</th>\n",
       "      <th>3</th>\n",
       "      <th>4</th>\n",
       "      <th>5</th>\n",
       "      <th>6</th>\n",
       "      <th>7</th>\n",
       "      <th>8</th>\n",
       "      <th>9</th>\n",
       "      <th>10</th>\n",
       "    </tr>\n",
       "  </thead>\n",
       "  <tbody>\n",
       "    <tr>\n",
       "      <th>0</th>\n",
       "      <td>ab</td>\n",
       "      <td>abd</td>\n",
       "      <td>bd</td>\n",
       "      <td>bcd</td>\n",
       "      <td>d</td>\n",
       "      <td>ae</td>\n",
       "      <td>ab</td>\n",
       "      <td>abcd</td>\n",
       "      <td>bc</td>\n",
       "      <td>b</td>\n",
       "      <td>ad</td>\n",
       "    </tr>\n",
       "    <tr>\n",
       "      <th>1</th>\n",
       "      <td>ab</td>\n",
       "      <td>b</td>\n",
       "      <td>d</td>\n",
       "      <td>bcd</td>\n",
       "      <td>d</td>\n",
       "      <td>ae</td>\n",
       "      <td>ab</td>\n",
       "      <td>abcd</td>\n",
       "      <td>bcd</td>\n",
       "      <td>bc</td>\n",
       "      <td>acd</td>\n",
       "    </tr>\n",
       "    <tr>\n",
       "      <th>2</th>\n",
       "      <td>ac</td>\n",
       "      <td>abd</td>\n",
       "      <td>bd</td>\n",
       "      <td>bcd</td>\n",
       "      <td>cd</td>\n",
       "      <td>ade</td>\n",
       "      <td>ab</td>\n",
       "      <td>abc</td>\n",
       "      <td>ab</td>\n",
       "      <td>b</td>\n",
       "      <td>c</td>\n",
       "    </tr>\n",
       "    <tr>\n",
       "      <th>3</th>\n",
       "      <td>abc</td>\n",
       "      <td>b</td>\n",
       "      <td>NaN</td>\n",
       "      <td>d</td>\n",
       "      <td>d</td>\n",
       "      <td>abe</td>\n",
       "      <td>ab</td>\n",
       "      <td>abcd</td>\n",
       "      <td>ab</td>\n",
       "      <td>bc</td>\n",
       "      <td>NaN</td>\n",
       "    </tr>\n",
       "    <tr>\n",
       "      <th>4</th>\n",
       "      <td>ab</td>\n",
       "      <td>abd</td>\n",
       "      <td>b</td>\n",
       "      <td>bcd</td>\n",
       "      <td>d</td>\n",
       "      <td>ae</td>\n",
       "      <td>ab</td>\n",
       "      <td>abc</td>\n",
       "      <td>abc</td>\n",
       "      <td>b</td>\n",
       "      <td>bd</td>\n",
       "    </tr>\n",
       "  </tbody>\n",
       "</table>\n",
       "</div>"
      ],
      "text/plain": [
       "    0    1    2    3   4    5   6     7    8   9    10\n",
       "0   ab  abd   bd  bcd   d   ae  ab  abcd   bc   b   ad\n",
       "1   ab    b    d  bcd   d   ae  ab  abcd  bcd  bc  acd\n",
       "2   ac  abd   bd  bcd  cd  ade  ab   abc   ab   b    c\n",
       "3  abc    b  NaN    d   d  abe  ab  abcd   ab  bc  NaN\n",
       "4   ab  abd    b  bcd   d   ae  ab   abc  abc   b   bd"
      ]
     },
     "execution_count": 2,
     "metadata": {},
     "output_type": "execute_result"
    }
   ],
   "source": [
    "df.head()"
   ]
  },
  {
   "cell_type": "markdown",
   "metadata": {},
   "source": [
    "Extract the correct answer from the last row"
   ]
  },
  {
   "cell_type": "code",
   "execution_count": 3,
   "metadata": {},
   "outputs": [],
   "source": [
    "correctrow = df[-1:][:]\n",
    "answer=[]\n",
    "\n",
    "for row in correctrow.iterrows():\n",
    "    index, data = row\n",
    "    answer.append(data.tolist())"
   ]
  },
  {
   "cell_type": "markdown",
   "metadata": {},
   "source": [
    "Create the output dataframe"
   ]
  },
  {
   "cell_type": "code",
   "execution_count": 4,
   "metadata": {},
   "outputs": [],
   "source": [
    "dfout = df.copy()"
   ]
  },
  {
   "cell_type": "markdown",
   "metadata": {},
   "source": [
    "Define the function to compute the score of multiple choice questions"
   ]
  },
  {
   "cell_type": "code",
   "execution_count": 5,
   "metadata": {},
   "outputs": [],
   "source": [
    "import difflib\n",
    "def compareToAnswer(studentAnswer, counter, solution):\n",
    "    if str(studentAnswer) == \"nan\":\n",
    "        studentAnswer = \"\"\n",
    "    \n",
    "    solution = solution[0][counter]\n",
    "    score = 0\n",
    "    letter = ['abcd'] * 11\n",
    "    letter[5] = 'abcde'\n",
    "    l = letter[counter]\n",
    "    \n",
    "    for e in solution:\n",
    "        if e in studentAnswer:\n",
    "            score = score + 2.5/len(letter[counter]) \n",
    "        else:\n",
    "            score = score - 2.5/len(letter[counter]) \n",
    "\n",
    "    listO = []\n",
    "    for i,s in enumerate(difflib.ndiff(solution, l)):\n",
    "        if s[0]==' ': continue\n",
    "        elif s[0]=='+':  \n",
    "            listO.append(s[-1])\n",
    "    \n",
    "    for e in listO:\n",
    "        if e in studentAnswer:\n",
    "            score = score - 2.5/len(letter[counter])\n",
    "        else:\n",
    "            score = score + 2.5/len(letter[counter])\n",
    "    return score"
   ]
  },
  {
   "cell_type": "markdown",
   "metadata": {},
   "source": [
    "Iterate of the rows of dataframe (each row represents a student) and \n",
    "compute the student score per question. Aggregate everything in the output dataframe."
   ]
  },
  {
   "cell_type": "code",
   "execution_count": 6,
   "metadata": {},
   "outputs": [],
   "source": [
    "for row in df.itertuples():\n",
    "    counter = 0\n",
    "    listscore = []\n",
    "    for e in row:\n",
    "        #print(counter)\n",
    "        if type(e) == int:\n",
    "            continue\n",
    "        else:\n",
    "            score = compareToAnswer(e, counter, answer)\n",
    "            counter = counter + 1\n",
    "            listscore.append(str(score))\n",
    "    dfout = dfout.append(pd.Series(listscore, index = dfout.columns), ignore_index = True)"
   ]
  },
  {
   "cell_type": "code",
   "execution_count": 7,
   "metadata": {},
   "outputs": [],
   "source": [
    "dfout.to_csv('markedAnswers.csv')"
   ]
  }
 ],
 "metadata": {
  "kernelspec": {
   "display_name": "Python 3",
   "language": "python",
   "name": "python3"
  },
  "language_info": {
   "codemirror_mode": {
    "name": "ipython",
    "version": 3
   },
   "file_extension": ".py",
   "mimetype": "text/x-python",
   "name": "python",
   "nbconvert_exporter": "python",
   "pygments_lexer": "ipython3",
   "version": "3.7.1"
  }
 },
 "nbformat": 4,
 "nbformat_minor": 2
}
